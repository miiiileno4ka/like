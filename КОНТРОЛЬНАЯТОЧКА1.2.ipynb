{
 "cells": [
  {
   "cell_type": "code",
   "execution_count": 1,
   "metadata": {},
   "outputs": [],
   "source": [
    "import pandas as pd"
   ]
  },
  {
   "cell_type": "code",
   "execution_count": 2,
   "metadata": {},
   "outputs": [],
   "source": [
    "import redis as rd"
   ]
  },
  {
   "cell_type": "code",
   "execution_count": 8,
   "metadata": {},
   "outputs": [],
   "source": [
    "D = pd.read_csv(\"https://github.com/junaart/ForStudents/raw/refs/heads/main/R/Zachet/DataSets/9.csv\",sep=\";\")"
   ]
  },
  {
   "cell_type": "code",
   "execution_count": 9,
   "metadata": {},
   "outputs": [
    {
     "data": {
      "text/html": [
       "<div>\n",
       "<style scoped>\n",
       "    .dataframe tbody tr th:only-of-type {\n",
       "        vertical-align: middle;\n",
       "    }\n",
       "\n",
       "    .dataframe tbody tr th {\n",
       "        vertical-align: top;\n",
       "    }\n",
       "\n",
       "    .dataframe thead th {\n",
       "        text-align: right;\n",
       "    }\n",
       "</style>\n",
       "<table border=\"1\" class=\"dataframe\">\n",
       "  <thead>\n",
       "    <tr style=\"text-align: right;\">\n",
       "      <th></th>\n",
       "      <th>region_id</th>\n",
       "      <th>region</th>\n",
       "      <th>P1_2014</th>\n",
       "      <th>P1_2015</th>\n",
       "      <th>P1_2016</th>\n",
       "      <th>P2_2014</th>\n",
       "      <th>P2_2015</th>\n",
       "      <th>P2_2016</th>\n",
       "      <th>P3_2014</th>\n",
       "      <th>P3_2015</th>\n",
       "      <th>...</th>\n",
       "      <th>P5_2016</th>\n",
       "      <th>P6_2014</th>\n",
       "      <th>P6_2015</th>\n",
       "      <th>P6_2016</th>\n",
       "      <th>P7_2014</th>\n",
       "      <th>P7_2015</th>\n",
       "      <th>P7_2016</th>\n",
       "      <th>P8_2014</th>\n",
       "      <th>P8_2015</th>\n",
       "      <th>P8_2016</th>\n",
       "    </tr>\n",
       "  </thead>\n",
       "  <tbody>\n",
       "    <tr>\n",
       "      <th>0</th>\n",
       "      <td>1</td>\n",
       "      <td>Республика Адыгея</td>\n",
       "      <td>8,5</td>\n",
       "      <td>7,9</td>\n",
       "      <td>4,2</td>\n",
       "      <td>0</td>\n",
       "      <td>0</td>\n",
       "      <td>0</td>\n",
       "      <td>137,5</td>\n",
       "      <td>83,6</td>\n",
       "      <td>...</td>\n",
       "      <td>10,1</td>\n",
       "      <td>5</td>\n",
       "      <td>5</td>\n",
       "      <td>10</td>\n",
       "      <td>164</td>\n",
       "      <td>187</td>\n",
       "      <td>230</td>\n",
       "      <td>205,7</td>\n",
       "      <td>202,4</td>\n",
       "      <td>225,2</td>\n",
       "    </tr>\n",
       "    <tr>\n",
       "      <th>1</th>\n",
       "      <td>2</td>\n",
       "      <td>Республика Алтай</td>\n",
       "      <td>10,7</td>\n",
       "      <td>10,9</td>\n",
       "      <td>6,2</td>\n",
       "      <td>0</td>\n",
       "      <td>0</td>\n",
       "      <td>0</td>\n",
       "      <td>468</td>\n",
       "      <td>270,3</td>\n",
       "      <td>...</td>\n",
       "      <td>0,2</td>\n",
       "      <td>1</td>\n",
       "      <td>5</td>\n",
       "      <td>3</td>\n",
       "      <td>184</td>\n",
       "      <td>177</td>\n",
       "      <td>118</td>\n",
       "      <td>91,8</td>\n",
       "      <td>89,7</td>\n",
       "      <td>91,6</td>\n",
       "    </tr>\n",
       "    <tr>\n",
       "      <th>2</th>\n",
       "      <td>3</td>\n",
       "      <td>Республика Башкортостан</td>\n",
       "      <td>10,4</td>\n",
       "      <td>9,1</td>\n",
       "      <td>7,3</td>\n",
       "      <td>7</td>\n",
       "      <td>8</td>\n",
       "      <td>10</td>\n",
       "      <td>30009,7</td>\n",
       "      <td>25320,7</td>\n",
       "      <td>...</td>\n",
       "      <td>8,4</td>\n",
       "      <td>732</td>\n",
       "      <td>924</td>\n",
       "      <td>631</td>\n",
       "      <td>7192</td>\n",
       "      <td>7625</td>\n",
       "      <td>9324</td>\n",
       "      <td>8302,8</td>\n",
       "      <td>8329,7</td>\n",
       "      <td>8854,4</td>\n",
       "    </tr>\n",
       "    <tr>\n",
       "      <th>3</th>\n",
       "      <td>4</td>\n",
       "      <td>Республика Бурятия</td>\n",
       "      <td>8,5</td>\n",
       "      <td>4,8</td>\n",
       "      <td>6,4</td>\n",
       "      <td>2</td>\n",
       "      <td>2</td>\n",
       "      <td>4</td>\n",
       "      <td>924,6</td>\n",
       "      <td>852,6</td>\n",
       "      <td>...</td>\n",
       "      <td>2,5</td>\n",
       "      <td>44</td>\n",
       "      <td>52</td>\n",
       "      <td>53</td>\n",
       "      <td>275</td>\n",
       "      <td>344</td>\n",
       "      <td>380</td>\n",
       "      <td>940</td>\n",
       "      <td>1049,2</td>\n",
       "      <td>931,1</td>\n",
       "    </tr>\n",
       "    <tr>\n",
       "      <th>4</th>\n",
       "      <td>5</td>\n",
       "      <td>Республика Дагестан</td>\n",
       "      <td>12,2</td>\n",
       "      <td>7,3</td>\n",
       "      <td>2,5</td>\n",
       "      <td>13</td>\n",
       "      <td>13</td>\n",
       "      <td>6</td>\n",
       "      <td>527,6</td>\n",
       "      <td>53,7</td>\n",
       "      <td>...</td>\n",
       "      <td>0,4</td>\n",
       "      <td>407</td>\n",
       "      <td>231</td>\n",
       "      <td>159</td>\n",
       "      <td>431</td>\n",
       "      <td>424</td>\n",
       "      <td>578</td>\n",
       "      <td>972,2</td>\n",
       "      <td>969,5</td>\n",
       "      <td>929,7</td>\n",
       "    </tr>\n",
       "    <tr>\n",
       "      <th>...</th>\n",
       "      <td>...</td>\n",
       "      <td>...</td>\n",
       "      <td>...</td>\n",
       "      <td>...</td>\n",
       "      <td>...</td>\n",
       "      <td>...</td>\n",
       "      <td>...</td>\n",
       "      <td>...</td>\n",
       "      <td>...</td>\n",
       "      <td>...</td>\n",
       "      <td>...</td>\n",
       "      <td>...</td>\n",
       "      <td>...</td>\n",
       "      <td>...</td>\n",
       "      <td>...</td>\n",
       "      <td>...</td>\n",
       "      <td>...</td>\n",
       "      <td>...</td>\n",
       "      <td>...</td>\n",
       "      <td>...</td>\n",
       "      <td>...</td>\n",
       "    </tr>\n",
       "    <tr>\n",
       "      <th>80</th>\n",
       "      <td>86</td>\n",
       "      <td>Ханты-Мансийский автономный округ – Югра</td>\n",
       "      <td>5,4</td>\n",
       "      <td>5</td>\n",
       "      <td>6,3</td>\n",
       "      <td>1</td>\n",
       "      <td>0</td>\n",
       "      <td>0</td>\n",
       "      <td>54306</td>\n",
       "      <td>57166,6</td>\n",
       "      <td>...</td>\n",
       "      <td>0,4</td>\n",
       "      <td>56</td>\n",
       "      <td>55</td>\n",
       "      <td>49</td>\n",
       "      <td>1328</td>\n",
       "      <td>1309</td>\n",
       "      <td>1969</td>\n",
       "      <td>2720,3</td>\n",
       "      <td>2805,9</td>\n",
       "      <td>2800,4</td>\n",
       "    </tr>\n",
       "    <tr>\n",
       "      <th>81</th>\n",
       "      <td>87</td>\n",
       "      <td>Чукотский автономный округ</td>\n",
       "      <td>29,2</td>\n",
       "      <td>17,8</td>\n",
       "      <td>7,2</td>\n",
       "      <td>2</td>\n",
       "      <td>2</td>\n",
       "      <td>0</td>\n",
       "      <td>34,9</td>\n",
       "      <td>694,1</td>\n",
       "      <td>...</td>\n",
       "      <td>0,7</td>\n",
       "      <td>0</td>\n",
       "      <td>0</td>\n",
       "      <td>0</td>\n",
       "      <td>392</td>\n",
       "      <td>402</td>\n",
       "      <td>410</td>\n",
       "      <td>0</td>\n",
       "      <td>0</td>\n",
       "      <td>38,9</td>\n",
       "    </tr>\n",
       "    <tr>\n",
       "      <th>82</th>\n",
       "      <td>89</td>\n",
       "      <td>Ямало-Ненецкий автономный округ</td>\n",
       "      <td>7,8</td>\n",
       "      <td>7,4</td>\n",
       "      <td>9</td>\n",
       "      <td>16</td>\n",
       "      <td>13</td>\n",
       "      <td>22</td>\n",
       "      <td>1515,8</td>\n",
       "      <td>1507,9</td>\n",
       "      <td>...</td>\n",
       "      <td>0,1</td>\n",
       "      <td>33</td>\n",
       "      <td>29</td>\n",
       "      <td>40</td>\n",
       "      <td>3930</td>\n",
       "      <td>4052</td>\n",
       "      <td>3627</td>\n",
       "      <td>101,7</td>\n",
       "      <td>136,3</td>\n",
       "      <td>136,2</td>\n",
       "    </tr>\n",
       "    <tr>\n",
       "      <th>83</th>\n",
       "      <td>90</td>\n",
       "      <td>Республика Крым</td>\n",
       "      <td>11,5</td>\n",
       "      <td>5,1</td>\n",
       "      <td>2,8</td>\n",
       "      <td>0</td>\n",
       "      <td>0</td>\n",
       "      <td>0</td>\n",
       "      <td>258,3</td>\n",
       "      <td>596,8</td>\n",
       "      <td>...</td>\n",
       "      <td>1,1</td>\n",
       "      <td>8</td>\n",
       "      <td>175</td>\n",
       "      <td>143</td>\n",
       "      <td>66</td>\n",
       "      <td>75</td>\n",
       "      <td>102</td>\n",
       "      <td>511,9</td>\n",
       "      <td>1235,9</td>\n",
       "      <td>1410,9</td>\n",
       "    </tr>\n",
       "    <tr>\n",
       "      <th>84</th>\n",
       "      <td>91</td>\n",
       "      <td>Севастополь</td>\n",
       "      <td>4,8</td>\n",
       "      <td>0</td>\n",
       "      <td>3,3</td>\n",
       "      <td>0</td>\n",
       "      <td>0</td>\n",
       "      <td>0</td>\n",
       "      <td>0,1</td>\n",
       "      <td>0</td>\n",
       "      <td>...</td>\n",
       "      <td>12,8</td>\n",
       "      <td>0</td>\n",
       "      <td>110</td>\n",
       "      <td>72</td>\n",
       "      <td>103</td>\n",
       "      <td>108</td>\n",
       "      <td>316</td>\n",
       "      <td>267,4</td>\n",
       "      <td>650,2</td>\n",
       "      <td>653,1</td>\n",
       "    </tr>\n",
       "  </tbody>\n",
       "</table>\n",
       "<p>85 rows × 26 columns</p>\n",
       "</div>"
      ],
      "text/plain": [
       "    region_id                                    region P1_2014 P1_2015  \\\n",
       "0           1                         Республика Адыгея     8,5     7,9   \n",
       "1           2                          Республика Алтай    10,7    10,9   \n",
       "2           3                   Республика Башкортостан    10,4     9,1   \n",
       "3           4                        Республика Бурятия     8,5     4,8   \n",
       "4           5                       Республика Дагестан    12,2     7,3   \n",
       "..        ...                                       ...     ...     ...   \n",
       "80         86  Ханты-Мансийский автономный округ – Югра     5,4       5   \n",
       "81         87                Чукотский автономный округ    29,2    17,8   \n",
       "82         89           Ямало-Ненецкий автономный округ     7,8     7,4   \n",
       "83         90                           Республика Крым    11,5     5,1   \n",
       "84         91                               Севастополь     4,8       0   \n",
       "\n",
       "   P1_2016  P2_2014  P2_2015  P2_2016  P3_2014  P3_2015  ... P5_2016 P6_2014  \\\n",
       "0      4,2        0        0        0    137,5     83,6  ...    10,1       5   \n",
       "1      6,2        0        0        0      468    270,3  ...     0,2       1   \n",
       "2      7,3        7        8       10  30009,7  25320,7  ...     8,4     732   \n",
       "3      6,4        2        2        4    924,6    852,6  ...     2,5      44   \n",
       "4      2,5       13       13        6    527,6     53,7  ...     0,4     407   \n",
       "..     ...      ...      ...      ...      ...      ...  ...     ...     ...   \n",
       "80     6,3        1        0        0    54306  57166,6  ...     0,4      56   \n",
       "81     7,2        2        2        0     34,9    694,1  ...     0,7       0   \n",
       "82       9       16       13       22   1515,8   1507,9  ...     0,1      33   \n",
       "83     2,8        0        0        0    258,3    596,8  ...     1,1       8   \n",
       "84     3,3        0        0        0      0,1        0  ...    12,8       0   \n",
       "\n",
       "   P6_2015 P6_2016 P7_2014 P7_2015 P7_2016  P8_2014  P8_2015  P8_2016  \n",
       "0        5      10     164     187     230    205,7    202,4    225,2  \n",
       "1        5       3     184     177     118     91,8     89,7     91,6  \n",
       "2      924     631    7192    7625    9324   8302,8   8329,7   8854,4  \n",
       "3       52      53     275     344     380      940   1049,2    931,1  \n",
       "4      231     159     431     424     578    972,2    969,5    929,7  \n",
       "..     ...     ...     ...     ...     ...      ...      ...      ...  \n",
       "80      55      49    1328    1309    1969   2720,3   2805,9   2800,4  \n",
       "81       0       0     392     402     410        0        0     38,9  \n",
       "82      29      40    3930    4052    3627    101,7    136,3    136,2  \n",
       "83     175     143      66      75     102    511,9   1235,9   1410,9  \n",
       "84     110      72     103     108     316    267,4    650,2    653,1  \n",
       "\n",
       "[85 rows x 26 columns]"
      ]
     },
     "metadata": {},
     "output_type": "display_data"
    }
   ],
   "source": [
    "display(D)"
   ]
  },
  {
   "cell_type": "code",
   "execution_count": 10,
   "metadata": {},
   "outputs": [
    {
     "data": {
      "text/plain": [
       "Index(['region_id', 'region', 'P1_2014', 'P1_2015', 'P1_2016', 'P2_2014',\n",
       "       'P2_2015', 'P2_2016', 'P3_2014', 'P3_2015', 'P3_2016', 'P4_2014',\n",
       "       'P5_2014', 'P4_2015', 'P5_2015', 'P4_2016', 'P5_2016', 'P6_2014',\n",
       "       'P6_2015', 'P6_2016', 'P7_2014', 'P7_2015', 'P7_2016', 'P8_2014',\n",
       "       'P8_2015', 'P8_2016'],\n",
       "      dtype='object')"
      ]
     },
     "execution_count": 10,
     "metadata": {},
     "output_type": "execute_result"
    }
   ],
   "source": [
    "D.columns"
   ]
  },
  {
   "cell_type": "code",
   "execution_count": 13,
   "metadata": {},
   "outputs": [
    {
     "data": {
      "text/plain": [
       "0      8,5\n",
       "1     10,7\n",
       "2     10,4\n",
       "3      8,5\n",
       "4     12,2\n",
       "      ... \n",
       "80     5,4\n",
       "81    29,2\n",
       "82     7,8\n",
       "83    11,5\n",
       "84     4,8\n",
       "Name: P1_2014, Length: 85, dtype: object"
      ]
     },
     "execution_count": 13,
     "metadata": {},
     "output_type": "execute_result"
    }
   ],
   "source": [
    "D[\"P1_2014\"]"
   ]
  },
  {
   "cell_type": "code",
   "execution_count": null,
   "metadata": {},
   "outputs": [],
   "source": [
    "r = rd.Redis()\n",
    "key = \"id1.\"\n",
    "for i in range(len(D[\"P1_2014\"])):\n",
    "    r.set(key+str(i),str(D[\"P1_2014\"].iloc[i]))"
   ]
  },
  {
   "cell_type": "code",
   "execution_count": null,
   "metadata": {},
   "outputs": [],
   "source": [
    "r = rd.Redis()\n",
    "key = \"id2.\"\n",
    "for i in range(len(D[\"P1_2015\"])):\n",
    "    r.set(key+str(i),str(D[\"P1_2015\"].iloc[i]))"
   ]
  },
  {
   "cell_type": "code",
   "execution_count": null,
   "metadata": {},
   "outputs": [],
   "source": [
    "r = rd.Redis()\n",
    "key = \"id3.\"\n",
    "for i in range(len(D[\"P1_2016\"])):\n",
    "    r.set(key+str(i),str(D[\"P1_2016\"].iloc[i]))"
   ]
  },
  {
   "cell_type": "code",
   "execution_count": null,
   "metadata": {},
   "outputs": [],
   "source": [
    "r = rd.Redis()\n",
    "key = \"id4.\"\n",
    "for i in range(len(D[\"P2_2014\"])):\n",
    "    r.set(key+str(i),str(D[\"P2_2014\"].iloc[i]))"
   ]
  },
  {
   "cell_type": "code",
   "execution_count": null,
   "metadata": {},
   "outputs": [],
   "source": [
    "r = rd.Redis()\n",
    "key = \"id5.\"\n",
    "for i in range(len(D[\"P2_2015\"])):\n",
    "    r.set(key+str(i),str(D[\"P2_2015\"].iloc[i]))"
   ]
  },
  {
   "cell_type": "code",
   "execution_count": null,
   "metadata": {},
   "outputs": [],
   "source": [
    "r = rd.Redis()\n",
    "key = \"id6.\"\n",
    "for i in range(len(D[\"P2_2016\"])):\n",
    "    r.set(key+str(i),str(D[\"P2_2016\"].iloc[i]))"
   ]
  },
  {
   "cell_type": "code",
   "execution_count": null,
   "metadata": {},
   "outputs": [],
   "source": [
    "r = rd.Redis()\n",
    "key = \"id7.\"\n",
    "for i in range(len(D[\"P3_2014\"])):\n",
    "    r.set(key+str(i),str(D[\"P3_2014\"].iloc[i]))"
   ]
  },
  {
   "cell_type": "code",
   "execution_count": null,
   "metadata": {},
   "outputs": [],
   "source": [
    "r = rd.Redis()\n",
    "key = \"id8.\"\n",
    "for i in range(len(D[\"P3_2015\"])):\n",
    "    r.set(key+str(i),str(D[\"P3_2015\"].iloc[i]))"
   ]
  },
  {
   "cell_type": "code",
   "execution_count": null,
   "metadata": {},
   "outputs": [],
   "source": [
    "r = rd.Redis()\n",
    "key = \"id9.\"\n",
    "for i in range(len(D[\"P3_2016\"])):\n",
    "    r.set(key+str(i),str(D[\"P3_2016\"].iloc[i]))"
   ]
  },
  {
   "cell_type": "code",
   "execution_count": null,
   "metadata": {},
   "outputs": [],
   "source": [
    "r = rd.Redis()\n",
    "key = \"id10.\"\n",
    "for i in range(len(D[\"P4_2014\"])):\n",
    "    r.set(key+str(i),str(D[\"P4_2014\"].iloc[i]))"
   ]
  },
  {
   "cell_type": "code",
   "execution_count": null,
   "metadata": {},
   "outputs": [],
   "source": [
    "r = rd.Redis()\n",
    "key = \"id11.\"\n",
    "for i in range(len(D[\"P4_2015\"])):\n",
    "    r.set(key+str(i),str(D[\"P4_2015\"].iloc[i]))"
   ]
  },
  {
   "cell_type": "code",
   "execution_count": null,
   "metadata": {},
   "outputs": [],
   "source": [
    "r = rd.Redis()\n",
    "key = \"id12.\"\n",
    "for i in range(len(D[\"P4_2016\"])):\n",
    "    r.set(key+str(i),str(D[\"P4_2016\"].iloc[i]))"
   ]
  },
  {
   "cell_type": "code",
   "execution_count": null,
   "metadata": {},
   "outputs": [],
   "source": [
    "r = rd.Redis()\n",
    "key = \"id13.\"\n",
    "for i in range(len(D[\"P5_2014\"])):\n",
    "    r.set(key+str(i),str(D[\"P5_2014\"].iloc[i]))"
   ]
  },
  {
   "cell_type": "code",
   "execution_count": null,
   "metadata": {},
   "outputs": [],
   "source": [
    "r = rd.Redis()\n",
    "key = \"id14.\"\n",
    "for i in range(len(D[\"P5_2015\"])):\n",
    "    r.set(key+str(i),str(D[\"P5_2015\"].iloc[i]))"
   ]
  },
  {
   "cell_type": "code",
   "execution_count": null,
   "metadata": {},
   "outputs": [],
   "source": [
    "r = rd.Redis()\n",
    "key = \"id15.\"\n",
    "for i in range(len(D[\"P5_2016\"])):\n",
    "    r.set(key+str(i),str(D[\"P5_2016\"].iloc[i]))"
   ]
  },
  {
   "cell_type": "code",
   "execution_count": null,
   "metadata": {},
   "outputs": [],
   "source": [
    "r = rd.Redis()\n",
    "key = \"id16.\"\n",
    "for i in range(len(D[\"P6_2014\"])):\n",
    "    r.set(key+str(i),str(D[\"P6_2014\"].iloc[i]))"
   ]
  },
  {
   "cell_type": "code",
   "execution_count": null,
   "metadata": {},
   "outputs": [],
   "source": [
    "r = rd.Redis()\n",
    "key = \"id17.\"\n",
    "for i in range(len(D[\"P6_2015\"])):\n",
    "    r.set(key+str(i),str(D[\"P6_2015\"].iloc[i]))"
   ]
  },
  {
   "cell_type": "code",
   "execution_count": null,
   "metadata": {},
   "outputs": [],
   "source": [
    "r = rd.Redis()\n",
    "key = \"id18.\"\n",
    "for i in range(len(D[\"P6_2016\"])):\n",
    "    r.set(key+str(i),str(D[\"P6_2016\"].iloc[i]))"
   ]
  },
  {
   "cell_type": "code",
   "execution_count": null,
   "metadata": {},
   "outputs": [],
   "source": [
    "r = rd.Redis()\n",
    "key = \"id19.\"\n",
    "for i in range(len(D[\"P7_2014\"])):\n",
    "    r.set(key+str(i),str(D[\"P7_2014\"].iloc[i]))"
   ]
  },
  {
   "cell_type": "code",
   "execution_count": null,
   "metadata": {},
   "outputs": [],
   "source": [
    "r = rd.Redis()\n",
    "key = \"id20.\"\n",
    "for i in range(len(D[\"P7_2015\"])):\n",
    "    r.set(key+str(i),str(D[\"P7_2015\"].iloc[i]))"
   ]
  },
  {
   "cell_type": "code",
   "execution_count": null,
   "metadata": {},
   "outputs": [],
   "source": [
    "r = rd.Redis()\n",
    "key = \"id21.\"\n",
    "for i in range(len(D[\"P7_2016\"])):\n",
    "    r.set(key+str(i),str(D[\"P7_2016\"].iloc[i]))"
   ]
  },
  {
   "cell_type": "code",
   "execution_count": null,
   "metadata": {},
   "outputs": [],
   "source": [
    "r = rd.Redis()\n",
    "key = \"id22.\"\n",
    "for i in range(len(D[\"P8_2014\"])):\n",
    "    r.set(key+str(i),str(D[\"P8_2014\"].iloc[i]))"
   ]
  },
  {
   "cell_type": "code",
   "execution_count": null,
   "metadata": {},
   "outputs": [],
   "source": [
    "r = rd.Redis()\n",
    "key = \"id23.\"\n",
    "for i in range(len(D[\"P8_2015\"])):\n",
    "    r.set(key+str(i),str(D[\"P8_2015\"].iloc[i]))"
   ]
  },
  {
   "cell_type": "code",
   "execution_count": null,
   "metadata": {},
   "outputs": [],
   "source": [
    "r = rd.Redis()\n",
    "key = \"id24.\"\n",
    "for i in range(len(D[\"P8_2016\"])):\n",
    "    r.set(key+str(i),str(D[\"P8_2016\"].iloc[i]))"
   ]
  }
 ],
 "metadata": {
  "kernelspec": {
   "display_name": "Python 3",
   "language": "python",
   "name": "python3"
  },
  "language_info": {
   "codemirror_mode": {
    "name": "ipython",
    "version": 3
   },
   "file_extension": ".py",
   "mimetype": "text/x-python",
   "name": "python",
   "nbconvert_exporter": "python",
   "pygments_lexer": "ipython3",
   "version": "3.12.1"
  }
 },
 "nbformat": 4,
 "nbformat_minor": 2
}
